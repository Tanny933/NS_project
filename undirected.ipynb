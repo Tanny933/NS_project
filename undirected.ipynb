{
 "cells": [
  {
   "cell_type": "code",
   "execution_count": null,
   "metadata": {},
   "outputs": [],
   "source": [
    "import networkx as nx\n",
    "import pandas as pd\n",
    "from community import community_louvain\n",
    "import json\n",
    "import pprint\n"
   ]
  },
  {
   "cell_type": "code",
   "execution_count": null,
   "metadata": {},
   "outputs": [],
   "source": [
    "def undirected(year):\n",
    "    G=nx.Graph()\n",
    "    df=pd.read_csv(f\"graphs/{year}.csv\")\n",
    "    for index, row in df.iterrows():\n",
    "        source=row[\"source\"]\n",
    "        target=row[\"target\"]\n",
    "        weight=float(row[f\"{year}\"])\n",
    "        if G.has_edge(row[\"source\"],row[\"target\"]):\n",
    "            G[source][target]['weight']+=weight\n",
    "        else:\n",
    "\n",
    "            G.add_edge(source,target,weight=weight)\n",
    "\n",
    "    return G\n",
    "\n"
   ]
  },
  {
   "cell_type": "code",
   "execution_count": null,
   "metadata": {},
   "outputs": [],
   "source": [
    "G=undirected(1999)"
   ]
  },
  {
   "cell_type": "code",
   "execution_count": null,
   "metadata": {},
   "outputs": [],
   "source": [
    "x=nx.adjacency_matrix(G)"
   ]
  },
  {
   "cell_type": "code",
   "execution_count": null,
   "metadata": {},
   "outputs": [],
   "source": [
    "G.nodes()"
   ]
  },
  {
   "cell_type": "code",
   "execution_count": null,
   "metadata": {},
   "outputs": [],
   "source": [
    "import networkx as nx\n",
    "import scipy.cluster.hierarchy as sch\n",
    "import matplotlib.pyplot as plt\n",
    "\n",
    "# Create a weighted graph (replace this with your weighted graph)\n",
    "# G = nx.Graph()\n",
    "# G.add_weighted_edges_from([(1, 2, 0.5), (1, 3, 0.8), (2, 3, 0.6), (3, 4, 0.7), (4, 5, 0.9)])\n",
    "\n",
    "# Convert the graph to a distance matrix\n",
    "distances = nx.to_numpy_array(G)\n",
    "\n",
    "# Perform hierarchical clustering\n",
    "linkage_matrix = sch.linkage(distances, method='ward')  # Ward's linkage method\n",
    "\n",
    "# Plot the dendrogram\n",
    "plt.figure(figsize=(20, 10))\n",
    "dendrogram = sch.dendrogram(linkage_matrix, labels=list(G.nodes()), leaf_rotation=270)\n",
    "plt.title('Dendrogram of Hierarchical Clustering')\n",
    "plt.xlabel('Nodes')\n",
    "plt.ylabel('Distance')\n",
    "plt.show()\n"
   ]
  },
  {
   "cell_type": "code",
   "execution_count": null,
   "metadata": {},
   "outputs": [],
   "source": [
    "partition = community_louvain.best_partition(G, weight='weight')"
   ]
  },
  {
   "cell_type": "code",
   "execution_count": null,
   "metadata": {},
   "outputs": [],
   "source": [
    "def clustering(G):\n",
    "    partition = community_louvain.best_partition(G, weight='weight')\n",
    "    cluster={}\n",
    "    for k,v in partition.items():\n",
    "        if v not in cluster:\n",
    "            cluster[v]=[k]\n",
    "        else:\n",
    "            cluster[v].append(k)\n",
    "\n",
    "    return partition,cluster\n",
    "\n",
    "    \n"
   ]
  },
  {
   "cell_type": "code",
   "execution_count": null,
   "metadata": {},
   "outputs": [],
   "source": [
    "cluster={}\n",
    "for k,v in partition.items():\n",
    "    if v not in cluster:\n",
    "        cluster[v]=[k]\n",
    "    else:\n",
    "        cluster[v].append(k)\n",
    "\n",
    "print(len(cluster.keys()))\n"
   ]
  },
  {
   "cell_type": "code",
   "execution_count": null,
   "metadata": {},
   "outputs": [],
   "source": [
    "def draw_clusters(G, partition,year):\n",
    "    # pos = nx.kamada_kawai_layout(G)  # Positions for all nodes\n",
    "    pos = nx.spring_layout(G, k=5, iterations=50)\n",
    "    plt.figure(figsize=(20, 20))\n",
    "    # Draw nodes, colored by cluster\n",
    "    for cluster_id in set(partition.values()):\n",
    "        nodes = [node for node, c in partition.items() if c == cluster_id]\n",
    "        nx.draw_networkx_nodes(G, pos, nodelist=nodes, node_color=plt.cm.jet(float(cluster_id) / len(set(partition.values()))), node_size=50, alpha=0.8)\n",
    "\n",
    "    # Draw edges\n",
    "    nx.draw_networkx_edges(G, pos, width=0.5, alpha=0.3)\n",
    "\n",
    "    # Draw labels\n",
    "    nx.draw_networkx_labels(G, pos, font_size=8, font_family=\"sans-serif\")\n",
    "\n",
    "    plt.axis(\"off\")\n",
    "    plt.savefig(f\"cluster_images/{year}\")\n"
   ]
  },
  {
   "cell_type": "code",
   "execution_count": null,
   "metadata": {},
   "outputs": [],
   "source": [
    "def sum_edge_weights(G):\n",
    "    total_weight = sum(weight for _, _, weight in G.edges(data='weight', default=1))\n",
    "    return total_weight\n"
   ]
  },
  {
   "cell_type": "code",
   "execution_count": null,
   "metadata": {},
   "outputs": [],
   "source": [
    "cluster_strength={}\n",
    "for i in [2000,2004,2008,2012,2016,2020]:\n",
    "    G=undirected(i)\n",
    "    partition,clusters=clustering(G)\n",
    "    cluster_strength[i]=[]\n",
    "    for key in clusters.keys():\n",
    "        ratio=find_ratio(clusters[key])\n",
    "        # cluster_strength[i][0].append(clusters[key])\n",
    "        # cluster_strength[i][1].append(ratio)\n",
    "        cluster_strength[i].append([clusters[key],ratio])\n",
    "\n",
    "\n",
    "    draw_clusters(G,partition,i)\n",
    "    \n",
    "\n",
    "    \n",
    "    "
   ]
  },
  {
   "cell_type": "code",
   "execution_count": null,
   "metadata": {},
   "outputs": [],
   "source": [
    "with open(\"clusters.txt\",\"w\") as fp:\n",
    "    json.dump(cluster_strength,fp)"
   ]
  },
  {
   "cell_type": "code",
   "execution_count": null,
   "metadata": {},
   "outputs": [],
   "source": [
    "with open(\"clusters.txt\",\"w\") as fp:\n",
    "    for i in [2000,2004,2008,2012,2016,2020]:\n",
    "        fp.write(i,\"\\n\")\n",
    "        for j in range(len(cluster_strength[i][1])):\n",
    "            fp.write(cluster_strength[i][0][j],cluster_strength[i][1][j],\"\\n\")\n",
    "       "
   ]
  },
  {
   "cell_type": "code",
   "execution_count": null,
   "metadata": {},
   "outputs": [],
   "source": [
    "with open(\"clusters.log\", \"w\") as log_file:\n",
    "    pprint.pprint(cluster_strength,log_file)"
   ]
  },
  {
   "cell_type": "code",
   "execution_count": null,
   "metadata": {},
   "outputs": [],
   "source": [
    "# print(cluster)\n",
    "def find_ratio(cluster):\n",
    "    subgraph=G.subgraph(cluster)\n",
    "    int_edges=sum_edge_weights(subgraph)\n",
    "    ext_set=nx.edge_boundary(G,subgraph)\n",
    "    ext_edges=sum([float(G[u][v]['weight']) for u,v in ext_set])\n",
    "    ratio=int_edges/ext_edges\n",
    "    return ratio\n"
   ]
  },
  {
   "cell_type": "code",
   "execution_count": null,
   "metadata": {},
   "outputs": [],
   "source": []
  },
  {
   "cell_type": "code",
   "execution_count": null,
   "metadata": {},
   "outputs": [],
   "source": [
    "communities_generator = nx.community.girvan_newman(G)\n",
    "top_level_communities = next(communities_generator)\n",
    "next_level_communities = next(communities_generator)\n",
    "sorted(map(sorted, next_level_communities))"
   ]
  }
 ],
 "metadata": {
  "kernelspec": {
   "display_name": "Python 3",
   "language": "python",
   "name": "python3"
  },
  "language_info": {
   "codemirror_mode": {
    "name": "ipython",
    "version": 3
   },
   "file_extension": ".py",
   "mimetype": "text/x-python",
   "name": "python",
   "nbconvert_exporter": "python",
   "pygments_lexer": "ipython3",
   "version": "3.11.2"
  }
 },
 "nbformat": 4,
 "nbformat_minor": 2
}
