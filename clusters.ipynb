{
 "cells": [
  {
   "cell_type": "code",
   "execution_count": 1,
   "metadata": {},
   "outputs": [],
   "source": [
    "import networkx as nx\n",
    "import pandas as pd\n",
    "from community import community_louvain  # python-louvain library\n",
    "import matplotlib.pyplot as plt\n",
    "\n",
    "# Create a directed weighted graph (replace this with your graph)\n",
    "df=pd.read_csv(\"graphs/1993.csv\")\n",
    "G = nx.from_pandas_edgelist(df, source='source', target='target', edge_attr='1993', create_using=nx.Graph)\n",
    "\n",
    "# G.add_weighted_edges_from([(1, 2, 5), (1, 3, 3), (2, 3, 4), (3, 4, 2), (4, 5, 1)])\n",
    "\n",
    "# Convert edge weights to integer (required by python-louvain)\n",
    "for u, v, d in G.edges(data=True):\n",
    "    d['1993'] = float(d['1993'])\n",
    "\n",
    "# Apply Louvain method for community detection\n"
   ]
  },
  {
   "cell_type": "code",
   "execution_count": 2,
   "metadata": {},
   "outputs": [
    {
     "name": "stdout",
     "output_type": "stream",
     "text": [
      "441\n"
     ]
    }
   ],
   "source": [
    "print(G.number_of_edges())"
   ]
  },
  {
   "cell_type": "code",
   "execution_count": 6,
   "metadata": {},
   "outputs": [
    {
     "ename": "NameError",
     "evalue": "name 'linkage' is not defined",
     "output_type": "error",
     "traceback": [
      "\u001b[1;31m---------------------------------------------------------------------------\u001b[0m",
      "\u001b[1;31mNameError\u001b[0m                                 Traceback (most recent call last)",
      "Cell \u001b[1;32mIn[6], line 7\u001b[0m\n\u001b[0;32m      4\u001b[0m dist_array \u001b[38;5;241m=\u001b[39m squareform(df) \u001b[38;5;66;03m#https://stackoverflow.com/questions/18952587/use-distance-matrix-in-scipy-cluster-hierarchy-linkage\u001b[39;00m\n\u001b[0;32m      6\u001b[0m plt\u001b[38;5;241m.\u001b[39mfigure(figsize\u001b[38;5;241m=\u001b[39m(\u001b[38;5;241m10\u001b[39m,\u001b[38;5;241m10\u001b[39m)) \n\u001b[1;32m----> 7\u001b[0m mergings \u001b[38;5;241m=\u001b[39m \u001b[43mlinkage\u001b[49m(dist_array, method\u001b[38;5;241m=\u001b[39m\u001b[38;5;124m'\u001b[39m\u001b[38;5;124mcomplete\u001b[39m\u001b[38;5;124m'\u001b[39m, metric\u001b[38;5;241m=\u001b[39m\u001b[38;5;124m'\u001b[39m\u001b[38;5;124meuclidean\u001b[39m\u001b[38;5;124m'\u001b[39m)\n\u001b[0;32m      8\u001b[0m dendrogram(mergings, labels \u001b[38;5;241m=\u001b[39m distances\u001b[38;5;241m.\u001b[39mindex, leafG_rotation\u001b[38;5;241m=\u001b[39m\u001b[38;5;241m90\u001b[39m, leaf_font_size\u001b[38;5;241m=\u001b[39m\u001b[38;5;241m14\u001b[39m)\n\u001b[0;32m      9\u001b[0m plt\u001b[38;5;241m.\u001b[39mshow()\n",
      "\u001b[1;31mNameError\u001b[0m: name 'linkage' is not defined"
     ]
    },
    {
     "data": {
      "text/plain": [
       "<Figure size 1000x1000 with 0 Axes>"
      ]
     },
     "metadata": {},
     "output_type": "display_data"
    }
   ],
   "source": [
    "df = nx.to_pandas_adjacency(G)\n",
    "\n",
    "from scipy.spatial.distance import squareform\n",
    "dist_array = squareform(df) #https://stackoverflow.com/questions/18952587/use-distance-matrix-in-scipy-cluster-hierarchy-linkage\n",
    "\n",
    "plt.figure(figsize=(10,10)) \n",
    "mergings = linkage(dist_array, method='complete', metric='euclidean')\n",
    "dendrogram(mergings, labels = distances.index, leafG_rotation=90, leaf_font_size=14)\n",
    "plt.show()"
   ]
  },
  {
   "cell_type": "code",
   "execution_count": 5,
   "metadata": {},
   "outputs": [
    {
     "data": {
      "image/png": "[encoded data removed]",
      "text/plain": [
       "<Figure size 1000x500 with 1 Axes>"
      ]
     },
     "metadata": {},
     "output_type": "display_data"
    },
    {
     "name": "stdout",
     "output_type": "stream",
     "text": [
      "{'United Arab Emirates': 0, 'Germany': 1, 'United Kingdom': 2, 'Japan': 0, 'Hong Kong, China': 0, 'India': 0, 'Saudi Arabia': 0, 'Kuwait': 0, 'Iran, Islamic Rep.': 1, 'United States': 3, 'France': 2, 'Netherlands': 3, 'Italy': 1, 'Ireland': 2, 'Other Asia, nes': 0, 'Korea, Rep.': 0, 'China': 0, 'Australia': 0, 'Indonesia': 0, 'Belgium-Luxembourg': 4, 'Monaco': 0, 'Canada': 5, 'Mexico': 5, 'Argentina': 3, 'Chile': 3, 'Brazil': 3, 'Special Categories': 2, 'New Zealand': 0, 'Burundi': 2, 'Switzerland': 2, 'Bangladesh': 0, 'Singapore': 0, 'Thailand': 0, 'Malaysia': 0, 'Belize': 5, 'Guatemala': 5, 'Spain': 1, 'El Salvador': 5, 'Costa Rica': 5, 'Venezuela': 5, 'Honduras': 5, 'Bolivia': 3, 'Peru': 3, 'Brunei': 0, 'Bhutan': 0, 'Norway': 2, 'Sweden': 2, 'Central African Republic': 4, 'Fm Sudan': 4, 'Cameroon': 4, 'Congo, Dem. Rep.': 4, 'Congo, Rep.': 3, 'Portugal': 1, 'Colombia': 3, 'Ecuador': 3, 'Cyprus': 1, 'Greece': 1, 'Lebanon': 1, 'Czech Republic': 1, 'Slovak Republic': 1, 'Russian Federation': 1, 'Austria': 1, 'Dominica': 5, 'Netherlands Antilles': 5, 'Trinidad and Tobago': 5, 'Jamaica': 5, 'Guadeloupe': 5, 'Barbados': 5, 'Guyana': 5, 'Denmark': 2, 'Algeria': 1, 'Finland': 2, 'Gabon': 3, 'Grenada': 5, 'St. Lucia': 5, 'Croatia': 1, 'Bosnia and Herzegovina': 1, 'Slovenia': 1, 'Hungary': 1, 'Iceland': 2, 'St. Kitts and Nevis': 5, 'Anguila': 5, 'Antigua and Barbuda': 5, 'Sri Lanka': 0, 'Macao': 0, 'Morocco': 1, 'Madagascar': 1, 'Reunion': 1, 'Mauritius': 2, 'South Africa': 2, 'Nicaragua': 5, 'Oman': 0, 'Paraguay': 3, 'Romania': 1, 'Turkey': 1, 'Tunisia': 4, 'Libya': 4, 'St. Vincent and the Grenadines': 5, 'Vanuatu': 0, 'Uganda': 0, 'New Caledonia': 0, ' World': 2}\n"
     ]
    }
   ],
   "source": [
    "partition = community_louvain.best_partition(G, weight='1993')\n",
    "dendrogram = community_louvain.generate_dendrogram(G, weight='weight')\n",
    "\n",
    "plt.figure(figsize=(10, 5))\n",
    "for level in range(len(dendrogram)):\n",
    "    partition = community_louvain.partition_at_level(dendrogram, level)\n",
    "    sizes = len(set(partition.values()))\n",
    "    plt.plot(level, sizes, marker='o', color='b')\n",
    "    plt.text(level, sizes, str(sizes), verticalalignment='bottom')\n",
    "\n",
    "plt.title('Dendrogram of Modularity-based Community Structure')\n",
    "plt.xlabel('Level')\n",
    "plt.ylabel('Number of Communities')\n",
    "plt.show()\n",
    "print(partition)\n"
   ]
  },
  {
   "cell_type": "code",
   "execution_count": null,
   "metadata": {},
   "outputs": [],
   "source": [
    "from scipy.cluster import hierarchy\n",
    "\n",
    "import matplotlib.pyplot as plt\n",
    "import scipy.cluster.hierarchy as shc  \n",
    "\n",
    "linkage_matrix=shc.linkage(x, method=\"ward\")\n",
    "\n",
    "# linkage_matrix=nx.to_numpy_matrix(G)\n",
    "plt.figure(figsize=(300, 300))\n",
    "dendrogram = hierarchy.dendrogram(linkage_matrix, labels=nodes, leaf_rotation=270)\n",
    "plt.title('Dendrogram')\n",
    "plt.xlabel('Data points')\n",
    "plt.ylabel('Distance')\n",
    "plt.savefig('dendrogram.png', dpi=200)"
   ]
  },
  {
   "cell_type": "code",
   "execution_count": 22,
   "metadata": {},
   "outputs": [
    {
     "name": "stdout",
     "output_type": "stream",
     "text": [
      "{2: ['United Arab Emirates', 'Japan', 'Hong Kong, China', 'Saudi Arabia', 'Kuwait', 'Iran, Islamic Rep.', 'Other Asia, nes', 'Korea, Rep.', 'China', 'Indonesia', 'Monaco', 'Singapore', 'Thailand', 'Malaysia', 'Brunei', 'Sri Lanka', 'Macao', 'Oman', ' World'], 6: ['Germany', 'France', 'Italy', 'Burundi', 'Switzerland', 'Spain', 'Sweden', 'Congo, Rep.', 'Portugal', 'Greece', 'Czech Republic', 'Slovak Republic', 'Russian Federation', 'Austria', 'Denmark', 'Algeria', 'Finland', 'Gabon', 'Croatia', 'Bosnia and Herzegovina', 'Slovenia', 'Hungary', 'Morocco', 'Madagascar', 'Reunion', 'Romania', 'Turkey', 'Tunisia', 'Libya'], 3: ['United Kingdom', 'Ireland', 'Norway', 'Cyprus', 'Lebanon', 'Dominica', 'Netherlands Antilles', 'Guadeloupe', 'Barbados', 'St. Lucia', 'Iceland', 'St. Kitts and Nevis', 'Anguila', 'Antigua and Barbuda', 'Mauritius', 'St. Vincent and the Grenadines'], 4: ['India', 'Bangladesh', 'Bhutan'], 5: ['United States', 'Canada', 'Mexico', 'Belize', 'Guatemala', 'El Salvador', 'Costa Rica', 'Venezuela', 'Honduras', 'Colombia', 'Ecuador', 'Trinidad and Tobago', 'Jamaica', 'Guyana', 'Grenada', 'Nicaragua'], 7: ['Netherlands', 'Argentina', 'Chile', 'Brazil', 'Bolivia', 'Peru', 'Paraguay'], 1: ['Australia', 'Special Categories', 'New Zealand', 'South Africa', 'Vanuatu', 'Uganda', 'New Caledonia'], 0: ['Belgium-Luxembourg', 'Central African Republic', 'Fm Sudan', 'Cameroon', 'Congo, Dem. Rep.']}\n"
     ]
    }
   ],
   "source": [
    "cluster={}\n",
    "for k,v in partition.items():\n",
    "    if v not in cluster:\n",
    "        cluster[v]=[k]\n",
    "    else:\n",
    "        cluster[v].append(k)\n",
    "\n",
    "print(cluster)\n"
   ]
  },
  {
   "cell_type": "code",
   "execution_count": 16,
   "metadata": {},
   "outputs": [
    {
     "name": "stdout",
     "output_type": "stream",
     "text": [
      "The modularity Q based on networkx is 0.3920280700392164\n"
     ]
    }
   ],
   "source": [
    "modularity2 = community_louvain.modularity(partition, G, weight='1993')\n",
    "print(\"The modularity Q based on networkx is {}\".format(modularity2))"
   ]
  },
  {
   "cell_type": "code",
   "execution_count": 21,
   "metadata": {},
   "outputs": [
    {
     "ename": "AttributeError",
     "evalue": "module 'community.community_louvain' has no attribute 'draw_dendrogram'",
     "output_type": "error",
     "traceback": [
      "\u001b[1;31m---------------------------------------------------------------------------\u001b[0m",
      "\u001b[1;31mAttributeError\u001b[0m                            Traceback (most recent call last)",
      "Cell \u001b[1;32mIn[21], line 5\u001b[0m\n\u001b[0;32m      3\u001b[0m \u001b[38;5;66;03m# Plot the dendrogram\u001b[39;00m\n\u001b[0;32m      4\u001b[0m plt\u001b[38;5;241m.\u001b[39mfigure(figsize\u001b[38;5;241m=\u001b[39m(\u001b[38;5;241m10\u001b[39m, \u001b[38;5;241m5\u001b[39m))\n\u001b[1;32m----> 5\u001b[0m \u001b[43mcommunity_louvain\u001b[49m\u001b[38;5;241;43m.\u001b[39;49m\u001b[43mdraw_dendrogram\u001b[49m(dendrogram)\n\u001b[0;32m      6\u001b[0m plt\u001b[38;5;241m.\u001b[39mtitle(\u001b[38;5;124m'\u001b[39m\u001b[38;5;124mDendrogram of Modularity-based Community Structure\u001b[39m\u001b[38;5;124m'\u001b[39m)\n\u001b[0;32m      7\u001b[0m plt\u001b[38;5;241m.\u001b[39mxlabel(\u001b[38;5;124m'\u001b[39m\u001b[38;5;124mNodes\u001b[39m\u001b[38;5;124m'\u001b[39m)\n",
      "\u001b[1;31mAttributeError\u001b[0m: module 'community.community_louvain' has no attribute 'draw_dendrogram'"
     ]
    },
    {
     "data": {
      "text/plain": [
       "<Figure size 1000x500 with 0 Axes>"
      ]
     },
     "metadata": {},
     "output_type": "display_data"
    }
   ],
   "source": [
    "dendrogram = community_louvain.generate_dendrogram(G, weight='1993')\n",
    "\n",
    "# Plot the dendrogram\n",
    "plt.figure(figsize=(10, 5))\n",
    "community_louvain.draw_dendrogram(dendrogram)\n",
    "plt.title('Dendrogram of Modularity-based Community Structure')\n",
    "plt.xlabel('Nodes')\n",
    "plt.ylabel('Modularity')\n",
    "plt.show()"
   ]
  }
 ],
 "metadata": {
  "kernelspec": {
   "display_name": "Python 3",
   "language": "python",
   "name": "python3"
  },
  "language_info": {
   "codemirror_mode": {
    "name": "ipython",
    "version": 3
   },
   "file_extension": ".py",
   "mimetype": "text/x-python",
   "name": "python",
   "nbconvert_exporter": "python",
   "pygments_lexer": "ipython3",
   "version": "3.11.2"
  }
 },
 "nbformat": 4,
 "nbformat_minor": 2
}
