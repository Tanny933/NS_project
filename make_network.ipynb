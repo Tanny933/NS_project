{
 "cells": [
  {
   "cell_type": "code",
   "execution_count": null,
   "metadata": {},
   "outputs": [],
   "source": [
    "import os\n",
    "import pandas as pd\n",
    "import networkx as nx\n",
    "import matplotlib.pyplot as plt\n",
    "import numpy as np\n"
   ]
  },
  {
   "cell_type": "code",
   "execution_count": null,
   "metadata": {},
   "outputs": [],
   "source": []
  },
  {
   "cell_type": "code",
   "execution_count": null,
   "metadata": {},
   "outputs": [],
   "source": [
    "d_type_dict={}\n",
    "for i in range(1993,2022):\n",
    "    d_type_dict[str(i)]=float"
   ]
  },
  {
   "cell_type": "code",
   "execution_count": null,
   "metadata": {},
   "outputs": [],
   "source": [
    "\n",
    "\n",
    "# Specify the directory path\n",
    "directory_path = 'wits_en_trade_summary_allcountries_allyears'\n",
    "\n",
    "# Traverse through the directory\n",
    "for filename in os.listdir(directory_path):\n",
    "    # Check if the current item is a file\n",
    "    path=f\"{directory_path}/{filename}\"\n",
    "    \n",
    "    df=pd.read_csv(path, encoding='latin-1',dtype=d_type_dict)\n",
    "    for index,row in df.iterrows():\n",
    "        reporter=row['Reporter']\n",
    "        partner=row['Partner']\n",
    "        if partner not in ('World','...','Unspecified') and reporter!='' and partner!='' and row['Indicator'][0]!='P' :\n",
    "            print(\"bruhhh\")\n",
    "            print(row['Indicator'])\n",
    "            print(row['Indicator Type']=='Export')\n",
    "            if row['Indicator Type']=='Export':\n",
    "                print(\"noice\")\n",
    "                for i in range(1993,2022):\n",
    "                    if pd.notna(row[str(i)]):\n",
    "                        if not All_networks[i].has_edge(reporter,partner):\n",
    "                            # print(\"alos oaky\")\n",
    "                            All_networks[i].add_edge(reporter,partner,weight=row[str(i)])\n",
    "\n",
    "\n",
    "            elif row['Indicator Type']=='Import':\n",
    "                for i in range(1993,2022):\n",
    "                    if not pd.notna(row[str(i)]):\n",
    "                        if not All_networks[i].has_edge(partner,reporter):\n",
    "                            # print(\"okay\")\n",
    "                            All_networks[i].add_edge(partner,reporter,weight=row[str(i)])\n",
    "\n",
    "\n",
    "            \n",
    "\n",
    "\n",
    "\n",
    "\n"
   ]
  },
  {
   "cell_type": "code",
   "execution_count": null,
   "metadata": {},
   "outputs": [],
   "source": [
    "print(All_networks[1999].has_edge('Argentina','Brazil'))"
   ]
  },
  {
   "cell_type": "code",
   "execution_count": null,
   "metadata": {},
   "outputs": [],
   "source": [
    "print(All_networks[1995].number_of_nodes())\n",
    "print(All_networks[1995].nodes())"
   ]
  },
  {
   "cell_type": "code",
   "execution_count": null,
   "metadata": {},
   "outputs": [],
   "source": [
    "nan_nodes = [node for node in All_networks[1995].nodes() if node == nan]\n",
    "All_networks[1995].remove_nodes_from(nan_nodes)"
   ]
  },
  {
   "cell_type": "code",
   "execution_count": null,
   "metadata": {},
   "outputs": [],
   "source": [
    "# plt.switch_backend('TkAgg')\n",
    "pos = nx.spring_layout(All_networks[2010])\n",
    "nx.draw(All_networks[2010], pos,with_labels=True, node_size=100, node_color=\"skyblue\", font_size=10,)\n",
    "plt.show()"
   ]
  },
  {
   "cell_type": "code",
   "execution_count": null,
   "metadata": {},
   "outputs": [],
   "source": []
  },
  {
   "cell_type": "code",
   "execution_count": null,
   "metadata": {},
   "outputs": [],
   "source": [
    "df1=pd.read_csv(\"wits_en_trade_summary_allcountries_allyears\\en_ABW_AllYears_WITS_Trade_Summary.CSV\",encoding='latin-1')\n"
   ]
  },
  {
   "cell_type": "code",
   "execution_count": null,
   "metadata": {},
   "outputs": [],
   "source": [
    "df1=pd.read_csv(f\"wits_en_trade_summary_allcountries_allyears\\en_JPN_AllYears_WITS_Trade_Summary.CSV\",encoding='latin-1')\n",
    "\n",
    "df1_1=df1[['Reporter','Partner','Indicator Type','Indicator',str(2021)]].dropna()\n",
    "df1_1=df1_1[df1_1['Reporter']!='World']\n",
    "df1_1=df1_1[df1_1['Partner']!='World']\n",
    "df1_1=df1_1[df1_1['Partner']!=' World']\n",
    "df1_1=df1_1[df1_1['Partner']!='Unspecified']\n",
    "df1_1=df1_1[df1_1['Partner']!='...']\n",
    "df1_1=df1_1[df1_1['Indicator']!='Partner share(%)-Top 5 Import Partner']\n",
    "df1_1=df1_1[df1_1['Indicator']!='Partner share(%)-Top 5 Export Partner']\n",
    "\n",
    "df1_1=df1_1.reset_index()\n"
   ]
  },
  {
   "cell_type": "code",
   "execution_count": null,
   "metadata": {},
   "outputs": [],
   "source": [
    "df1_1"
   ]
  },
  {
   "cell_type": "code",
   "execution_count": null,
   "metadata": {},
   "outputs": [],
   "source": [
    "\n",
    "# df1=pd.read_csv(\"wits_en_trade_summary_allcountries_allyears\\en_ABW_AllYears_WITS_Trade_Summary.CSV\",encoding='latin-1')\n",
    "\n",
    "def add_country(year):\n",
    "    df=pd.DataFrame({'Reporter':[],'Partner':[],'Indicator Type': [],'Indicator':[],str(year):[]})\n",
    "\n",
    "    for filename in os.listdir(\"wits_en_trade_summary_allcountries_allyears\"):\n",
    "        df1=pd.read_csv(f\"wits_en_trade_summary_allcountries_allyears/{filename}\",encoding='latin-1')\n",
    "\n",
    "        df1_1=df1[['Reporter','Partner','Indicator Type','Indicator',str(year)]].dropna()\n",
    "        df1_1=df1_1[df1_1['Reporter']!='World']\n",
    "        df1_1=df1_1[df1_1['Partner']!='World']\n",
    "        df1_1=df1_1[df1_1['Partner']!=' World']\n",
    "        df1_1=df1_1[df1_1['Partner']!='Unspecified']\n",
    "        df1_1=df1_1[df1_1['Partner']!='...']\n",
    "        df1_1=df1_1[df1_1['Indicator']!='Partner share(%)-Top 5 Import Partner']\n",
    "        df1_1=df1_1[df1_1['Indicator']!='Partner share(%)-Top 5 Export Partner']\n",
    "\n",
    "        df1_1=df1_1.reset_index()\n",
    "        for index, rows in df1_1.iterrows():\n",
    "            # print(index,rows)\n",
    "            if rows['Indicator Type']=='Import':\n",
    "                df1_1.iloc[index].Reporter, df1_1.iloc[index].Partner=rows['Partner'],rows['Reporter']\n",
    "            # elif rows['Indicator Type']=='Export':\n",
    "            #     df1_1.iloc[index].Reporter, df1_1.iloc[index].Partner=rows['Partner'],rows['Reporter']\n",
    "\n",
    "        # print(df1_1)\n",
    "        df=pd.concat([df,df1_1])\n",
    "            \n",
    "            \n",
    "    G=nx.from_pandas_edgelist(df,'Reporter','Partner',str(year),create_using=nx.DiGraph())\n",
    "    G.remove_node(' World')\n",
    "    return G\n",
    "\n",
    "\n"
   ]
  },
  {
   "cell_type": "code",
   "execution_count": null,
   "metadata": {},
   "outputs": [],
   "source": [
    "All_networks[2021]=add_country(2021)"
   ]
  },
  {
   "cell_type": "code",
   "execution_count": null,
   "metadata": {},
   "outputs": [],
   "source": [
    "All_networks={}\n",
    "for i in range(1993,2022):\n",
    "    All_networks[i]=add_country(i)"
   ]
  },
  {
   "cell_type": "code",
   "execution_count": null,
   "metadata": {},
   "outputs": [],
   "source": [
    "All_networks[2021].edges(data=True)"
   ]
  },
  {
   "cell_type": "code",
   "execution_count": null,
   "metadata": {},
   "outputs": [],
   "source": [
    "All_networks[1999]['Japan']"
   ]
  },
  {
   "cell_type": "code",
   "execution_count": null,
   "metadata": {},
   "outputs": [],
   "source": [
    "for i in range(1993,2022):  \n",
    "    nx.to_pandas_edgelist(All_networks[i]).to_csv(f\"graphs/{i}.csv\")"
   ]
  }
 ],
 "metadata": {
  "kernelspec": {
   "display_name": "Python 3",
   "language": "python",
   "name": "python3"
  },
  "language_info": {
   "codemirror_mode": {
    "name": "ipython",
    "version": 3
   },
   "file_extension": ".py",
   "mimetype": "text/x-python",
   "name": "python",
   "nbconvert_exporter": "python",
   "pygments_lexer": "ipython3",
   "version": "3.11.2"
  }
 },
 "nbformat": 4,
 "nbformat_minor": 2
}
